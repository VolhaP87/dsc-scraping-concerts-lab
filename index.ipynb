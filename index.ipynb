{
 "cells": [
  {
   "cell_type": "markdown",
   "metadata": {},
   "source": [
    "# Scraping Concerts - Lab\n",
    "\n",
    "## Introduction\n",
    "\n",
    "Now that you've seen how to scrape a simple website, it's time to again practice those skills on a full-fledged site!\n",
    "\n",
    "In this lab, you'll practice your scraping skills on an online music magazine and events website called Resident Advisor.\n",
    "\n",
    "## Objectives\n",
    "\n",
    "You will be able to:\n",
    "* Create a full scraping pipeline that involves traversing over many pages of a website, dealing with errors and storing data"
   ]
  },
  {
   "cell_type": "markdown",
   "metadata": {},
   "source": [
    "## View the Website\n",
    "\n",
    "For this lab, you'll be scraping the https://ra.co website. For reproducibility we will use the [Internet Archive](https://archive.org/) Wayback Machine to retrieve a version of this page from March 2019.\n",
    "\n",
    "Start by navigating to the events page [here](https://web.archive.org/web/20210325230938/https://ra.co/events/us/newyork?week=2019-03-30) in your browser. It should look something like this:\n",
    "\n",
    "<img src=\"images/ra_top.png\">"
   ]
  },
  {
   "cell_type": "markdown",
   "metadata": {},
   "source": [
    "## Open the Inspect Element Feature\n",
    "\n",
    "Next, open the inspect element feature from your web browser in order to preview the underlying HTML associated with the page."
   ]
  },
  {
   "cell_type": "markdown",
   "metadata": {},
   "source": [
    "## Write a Function to Scrape all of the Events on the Given Page\n",
    "\n",
    "The function should return a Pandas DataFrame with columns for the `Event_Name`, `Venue`, and `Number_of_Attendees`.\n",
    "\n",
    "Start by importing the relevant libraries, making a request to the relevant URL, and exploring the contents of the response with `BeautifulSoup`. Then fill in the `scrape_events` function with the relevant code."
   ]
  },
  {
   "cell_type": "code",
   "execution_count": 47,
   "metadata": {},
   "outputs": [],
   "source": [
    "# Relevant imports\n",
    "import pandas as pd\n",
    "import requests\n",
    "import time\n",
    "from bs4 import BeautifulSoup\n",
    "import numpy as np"
   ]
  },
  {
   "cell_type": "code",
   "execution_count": 48,
   "metadata": {},
   "outputs": [],
   "source": [
    "EVENTS_PAGE_URL = \"https://web.archive.org/web/20210326225933/https://ra.co/events/us/newyork?week=2019-03-30\"\n",
    "\n",
    "# Exploration: making the request and parsing the response\n",
    "res = requests.get(EVENTS_PAGE_URL)\n",
    "soup = BeautifulSoup(res.content, 'html.parser')"
   ]
  },
  {
   "cell_type": "code",
   "execution_count": 56,
   "metadata": {},
   "outputs": [
    {
     "name": "stdout",
     "output_type": "stream",
     "text": [
      "̸Sat, 30 MarUnterMania IIMary Yuzovskaya, Manni Dee, Umfang, Juana, The Lady MachineTBA - New YorkRARA Tickets457Cocoon New York: Sven Väth, Ilario Alicante, Butch & TaimurSven Vath, Butch, Taimur, Ilario Alicante99 Scott AveRARA Tickets407Horse Meat Disco - New York ResidencyHorse Meat Disco, The Carry Nation, Amber ValentineElsewhereRARA Tickets375RA PickRave: Underground Resistance All NightNomadico, Mark FlashNowadaysRARA Tickets232Detroit techno's most iconic crew dispatches two of its DJs \n"
     ]
    }
   ],
   "source": [
    "# Find the container with event listings in it\n",
    "events_all = soup.find('div', {'data-tracking-id':'events-all'})\n",
    "events_list = events_all.find('ul').find('li')\n",
    "print(events_list.text[:500])"
   ]
  },
  {
   "cell_type": "code",
   "execution_count": 50,
   "metadata": {},
   "outputs": [
    {
     "name": "stdout",
     "output_type": "stream",
     "text": [
      "0 index: ̸Sat, 30 MarUnterMania IIMary Yuzovskaya, Manni Dee, Umfang, Juana, The Lady MachineTBA - New YorkRARA Tickets457Cocoon New York: Sven Väth, Ilario Alicante, Butch & TaimurSven Vath, Butch, Taimur, Il\n",
      "\n",
      "1 index: \n",
      "\n",
      "2 index: ̸Sun, 31 MarSunday: Soul SummitNowadaysRARA Tickets132New Dad & Aaron Clark (Honcho)Aaron Clark, New DadAce Hotel3ParadiscoOccupy The DiscoLe Bain3Sunday Soiree: Unknown Showcase (Detroit)Ryan Dahl, H\n",
      "\n"
     ]
    }
   ],
   "source": [
    "# Find a list of events by date within that container\n",
    "dates = events_list.findChildren(recursive=False)\n",
    "print(\"0 index:\", dates[0].text[:200])\n",
    "print()\n",
    "print(\"1 index:\", dates[1].text[:200])\n",
    "print()\n",
    "print(\"2 index:\", dates[2].text[:200])\n",
    "print()"
   ]
  },
  {
   "cell_type": "code",
   "execution_count": 63,
   "metadata": {},
   "outputs": [
    {
     "data": {
      "text/plain": [
       "'Sat, 30 Mar'"
      ]
     },
     "execution_count": 63,
     "metadata": {},
     "output_type": "execute_result"
    }
   ],
   "source": [
    "# Extract the date (e.g. Sat, 30 Mar) from one of those containers\n",
    "first_date = dates[0]\n",
    "date = first_date.find('div', class_='sticky-header').text\n",
    "date = date.strip(\"'̸\")\n",
    "date"
   ]
  },
  {
   "cell_type": "code",
   "execution_count": 64,
   "metadata": {},
   "outputs": [
    {
     "name": "stdout",
     "output_type": "stream",
     "text": [
      "Name: UnterMania II\n",
      "Venue: TBA - New York\n",
      "Date: Sat, 30 Mar\n",
      "Number of attendees: 457\n"
     ]
    }
   ],
   "source": [
    "# Extract the name, venue, and number of attendees from one of the\n",
    "# events within that container\n",
    "first_date_events = first_date.findChildren('ul')\n",
    "first_event = first_date_events[0]\n",
    "name = first_event.find('h3').text\n",
    "print(\"Name:\", name)\n",
    "venue_and_attendees = first_event.find_all('div', attrs = {\"height\": 30})\n",
    "venue = venue_and_attendees[0].text\n",
    "print(\"Venue:\", venue)\n",
    "print('Date:', date)\n",
    "attendees = int(venue_and_attendees[-1].text)\n",
    "print(\"Number of attendees:\", attendees)"
   ]
  },
  {
   "cell_type": "code",
   "execution_count": 66,
   "metadata": {
    "scrolled": true
   },
   "outputs": [
    {
     "name": "stdout",
     "output_type": "stream",
     "text": [
      "Name: Petra, Matthusen & Lang, White & Pitsiokos, and Zorn\n",
      "Venue: H0L0\n",
      "Date: Sat, 30 Mar\n"
     ]
    },
    {
     "ename": "ValueError",
     "evalue": "invalid literal for int() with base 10: 'H0L0'",
     "output_type": "error",
     "traceback": [
      "\u001b[0;31m---------------------------------------------------------------------------\u001b[0m",
      "\u001b[0;31mValueError\u001b[0m                                Traceback (most recent call last)",
      "\u001b[0;32m<ipython-input-66-406b5181f416>\u001b[0m in \u001b[0;36m<module>\u001b[0;34m\u001b[0m\n\u001b[1;32m      6\u001b[0m \u001b[0mprint\u001b[0m\u001b[0;34m(\u001b[0m\u001b[0;34m\"Venue:\"\u001b[0m\u001b[0;34m,\u001b[0m \u001b[0mvenue\u001b[0m\u001b[0;34m)\u001b[0m\u001b[0;34m\u001b[0m\u001b[0;34m\u001b[0m\u001b[0m\n\u001b[1;32m      7\u001b[0m \u001b[0mprint\u001b[0m\u001b[0;34m(\u001b[0m\u001b[0;34m'Date:'\u001b[0m\u001b[0;34m,\u001b[0m \u001b[0mdate\u001b[0m\u001b[0;34m)\u001b[0m\u001b[0;34m\u001b[0m\u001b[0;34m\u001b[0m\u001b[0m\n\u001b[0;32m----> 8\u001b[0;31m \u001b[0mattendees\u001b[0m \u001b[0;34m=\u001b[0m \u001b[0mint\u001b[0m\u001b[0;34m(\u001b[0m\u001b[0mvenue_and_attendees\u001b[0m\u001b[0;34m[\u001b[0m\u001b[0;34m-\u001b[0m\u001b[0;36m1\u001b[0m\u001b[0;34m]\u001b[0m\u001b[0;34m.\u001b[0m\u001b[0mtext\u001b[0m\u001b[0;34m)\u001b[0m\u001b[0;34m\u001b[0m\u001b[0;34m\u001b[0m\u001b[0m\n\u001b[0m\u001b[1;32m      9\u001b[0m \u001b[0mprint\u001b[0m\u001b[0;34m(\u001b[0m\u001b[0;34m\"Number of attendees:\"\u001b[0m\u001b[0;34m,\u001b[0m \u001b[0mattendees\u001b[0m\u001b[0;34m)\u001b[0m\u001b[0;34m\u001b[0m\u001b[0;34m\u001b[0m\u001b[0m\n",
      "\u001b[0;31mValueError\u001b[0m: invalid literal for int() with base 10: 'H0L0'"
     ]
    }
   ],
   "source": [
    "last_event = first_date_events[-1]\n",
    "name = last_event.find('h3').text\n",
    "print(\"Name:\", name)\n",
    "venue_and_attendees = last_event.find_all('div', attrs = {\"height\": 30})\n",
    "venue = venue_and_attendees[-1].text\n",
    "print(\"Venue:\", venue)\n",
    "print('Date:', date)\n",
    "attendees = int(venue_and_attendees[-1].text)\n",
    "print(\"Number of attendees:\", attendees)"
   ]
  },
  {
   "cell_type": "code",
   "execution_count": 67,
   "metadata": {},
   "outputs": [
    {
     "name": "stdout",
     "output_type": "stream",
     "text": [
      "Number of attendees: nan\n"
     ]
    }
   ],
   "source": [
    "try:\n",
    "    attendees = int(venue_and_attendees[-1].text)\n",
    "except ValueError:\n",
    "    attendees = np.nan\n",
    "print('Number of attendees:', attendees)"
   ]
  },
  {
   "cell_type": "code",
   "execution_count": 69,
   "metadata": {},
   "outputs": [
    {
     "data": {
      "text/html": [
       "<div>\n",
       "<style scoped>\n",
       "    .dataframe tbody tr th:only-of-type {\n",
       "        vertical-align: middle;\n",
       "    }\n",
       "\n",
       "    .dataframe tbody tr th {\n",
       "        vertical-align: top;\n",
       "    }\n",
       "\n",
       "    .dataframe thead th {\n",
       "        text-align: right;\n",
       "    }\n",
       "</style>\n",
       "<table border=\"1\" class=\"dataframe\">\n",
       "  <thead>\n",
       "    <tr style=\"text-align: right;\">\n",
       "      <th></th>\n",
       "      <th>0</th>\n",
       "      <th>1</th>\n",
       "      <th>2</th>\n",
       "      <th>3</th>\n",
       "    </tr>\n",
       "  </thead>\n",
       "  <tbody>\n",
       "    <tr>\n",
       "      <th>0</th>\n",
       "      <td>UnterMania II</td>\n",
       "      <td>TBA - New York</td>\n",
       "      <td>Sat, 30 Mar</td>\n",
       "      <td>457.0</td>\n",
       "    </tr>\n",
       "    <tr>\n",
       "      <th>1</th>\n",
       "      <td>Cocoon New York: Sven Väth, Ilario Alicante, B...</td>\n",
       "      <td>99 Scott Ave</td>\n",
       "      <td>Sat, 30 Mar</td>\n",
       "      <td>407.0</td>\n",
       "    </tr>\n",
       "    <tr>\n",
       "      <th>2</th>\n",
       "      <td>Horse Meat Disco - New York Residency</td>\n",
       "      <td>Elsewhere</td>\n",
       "      <td>Sat, 30 Mar</td>\n",
       "      <td>375.0</td>\n",
       "    </tr>\n",
       "    <tr>\n",
       "      <th>3</th>\n",
       "      <td>Rave: Underground Resistance All Night</td>\n",
       "      <td>Nowadays</td>\n",
       "      <td>Sat, 30 Mar</td>\n",
       "      <td>232.0</td>\n",
       "    </tr>\n",
       "    <tr>\n",
       "      <th>4</th>\n",
       "      <td>Believe You Me // Beta Librae, Stephan Kimbel,...</td>\n",
       "      <td>TBA - New York</td>\n",
       "      <td>Sat, 30 Mar</td>\n",
       "      <td>89.0</td>\n",
       "    </tr>\n",
       "    <tr>\n",
       "      <th>...</th>\n",
       "      <td>...</td>\n",
       "      <td>...</td>\n",
       "      <td>...</td>\n",
       "      <td>...</td>\n",
       "    </tr>\n",
       "    <tr>\n",
       "      <th>114</th>\n",
       "      <td>A Night at the Baths</td>\n",
       "      <td>C'mon Everybody</td>\n",
       "      <td>Fri, 5 Apr</td>\n",
       "      <td>1.0</td>\n",
       "    </tr>\n",
       "    <tr>\n",
       "      <th>115</th>\n",
       "      <td>Blaqk Audio</td>\n",
       "      <td>Music Hall of Williamsburg</td>\n",
       "      <td>Fri, 5 Apr</td>\n",
       "      <td>1.0</td>\n",
       "    </tr>\n",
       "    <tr>\n",
       "      <th>116</th>\n",
       "      <td>Erik the Lover</td>\n",
       "      <td>Erv's</td>\n",
       "      <td>Fri, 5 Apr</td>\n",
       "      <td>1.0</td>\n",
       "    </tr>\n",
       "    <tr>\n",
       "      <th>117</th>\n",
       "      <td>Wax On Vissions</td>\n",
       "      <td>Starliner</td>\n",
       "      <td>Fri, 5 Apr</td>\n",
       "      <td>1.0</td>\n",
       "    </tr>\n",
       "    <tr>\n",
       "      <th>118</th>\n",
       "      <td>Schimanski &amp; Good Looks present: Mercer</td>\n",
       "      <td>Schimanski</td>\n",
       "      <td>Fri, 5 Apr</td>\n",
       "      <td>1.0</td>\n",
       "    </tr>\n",
       "  </tbody>\n",
       "</table>\n",
       "<p>119 rows × 4 columns</p>\n",
       "</div>"
      ],
      "text/plain": [
       "                                                     0  \\\n",
       "0                                        UnterMania II   \n",
       "1    Cocoon New York: Sven Väth, Ilario Alicante, B...   \n",
       "2                Horse Meat Disco - New York Residency   \n",
       "3               Rave: Underground Resistance All Night   \n",
       "4    Believe You Me // Beta Librae, Stephan Kimbel,...   \n",
       "..                                                 ...   \n",
       "114                               A Night at the Baths   \n",
       "115                                        Blaqk Audio   \n",
       "116                                     Erik the Lover   \n",
       "117                                    Wax On Vissions   \n",
       "118            Schimanski & Good Looks present: Mercer   \n",
       "\n",
       "                              1            2      3  \n",
       "0                TBA - New York  Sat, 30 Mar  457.0  \n",
       "1                  99 Scott Ave  Sat, 30 Mar  407.0  \n",
       "2                     Elsewhere  Sat, 30 Mar  375.0  \n",
       "3                      Nowadays  Sat, 30 Mar  232.0  \n",
       "4                TBA - New York  Sat, 30 Mar   89.0  \n",
       "..                          ...          ...    ...  \n",
       "114             C'mon Everybody   Fri, 5 Apr    1.0  \n",
       "115  Music Hall of Williamsburg   Fri, 5 Apr    1.0  \n",
       "116                       Erv's   Fri, 5 Apr    1.0  \n",
       "117                   Starliner   Fri, 5 Apr    1.0  \n",
       "118                  Schimanski   Fri, 5 Apr    1.0  \n",
       "\n",
       "[119 rows x 4 columns]"
      ]
     },
     "execution_count": 69,
     "metadata": {},
     "output_type": "execute_result"
    }
   ],
   "source": [
    "# Loop over all of the event entries, extract this information\n",
    "# from each, and assemble a dataframe\n",
    "rows = []\n",
    "for date_container in dates:\n",
    "    if not date_container.text:\n",
    "        continue\n",
    "    date = date_container.find(\"div\", class_=\"sticky-header\").text\n",
    "    date = date.strip(\"'̸\")\n",
    "    events = date_container.findChildren(\"ul\")\n",
    "    for event in events:\n",
    "        name = event.find(\"h3\").text\n",
    "        venue_and_attendees = event.findAll(\"div\", attrs={\"height\": 30})\n",
    "        venue = venue_and_attendees[0].text\n",
    "        try:\n",
    "            num_attendees = int(venue_and_attendees[-1].text)\n",
    "        except ValueError:\n",
    "            num_attendees = np.nan\n",
    "        rows.append([name, venue, date, num_attendees])\n",
    "df = pd.DataFrame(rows)\n",
    "df"
   ]
  },
  {
   "cell_type": "code",
   "execution_count": 70,
   "metadata": {},
   "outputs": [],
   "source": [
    "# Bring it all together in a function that makes the request, gets the\n",
    "# list of entries from the response, loops over that list to extract the\n",
    "# name, venue, date, and number of attendees for each event, and returns\n",
    "# that list of events as a dataframe\n",
    "\n",
    "def scrape_events(events_page_url):\n",
    "    #Your code here\n",
    "    res = requests.get(EVENTS_PAGE_URL)\n",
    "    soup = BeautifulSoup(res.content, 'html.parser')\n",
    "    events_all = soup.find('div', {'data-tracking-id':'events-all'})\n",
    "    events_list = events_all.find('ul').find('li')\n",
    "    dates = events_list.findChildren(recursive=False)\n",
    "    rows = []\n",
    "    for date_container in dates:\n",
    "        if not date_container.text:\n",
    "            continue\n",
    "        date = date_container.find(\"div\", class_=\"sticky-header\").text\n",
    "        date = date.strip(\"'̸\")\n",
    "        events = date_container.findChildren(\"ul\")\n",
    "        for event in events:\n",
    "            name = event.find(\"h3\").text\n",
    "            venue_and_attendees = event.findAll(\"div\", attrs={\"height\": 30})\n",
    "            venue = venue_and_attendees[0].text\n",
    "            try:\n",
    "                num_attendees = int(venue_and_attendees[-1].text)\n",
    "            except ValueError:\n",
    "                num_attendees = np.nan\n",
    "            rows.append([name, venue, date, num_attendees])\n",
    "    df = pd.DataFrame(rows)\n",
    "    df.columns = [\"Event_Name\", \"Venue\", \"Event_Date\", \"Number_of_Attendees\"]\n",
    "    return df"
   ]
  },
  {
   "cell_type": "code",
   "execution_count": 71,
   "metadata": {},
   "outputs": [
    {
     "data": {
      "text/html": [
       "<div>\n",
       "<style scoped>\n",
       "    .dataframe tbody tr th:only-of-type {\n",
       "        vertical-align: middle;\n",
       "    }\n",
       "\n",
       "    .dataframe tbody tr th {\n",
       "        vertical-align: top;\n",
       "    }\n",
       "\n",
       "    .dataframe thead th {\n",
       "        text-align: right;\n",
       "    }\n",
       "</style>\n",
       "<table border=\"1\" class=\"dataframe\">\n",
       "  <thead>\n",
       "    <tr style=\"text-align: right;\">\n",
       "      <th></th>\n",
       "      <th>Event_Name</th>\n",
       "      <th>Venue</th>\n",
       "      <th>Event_Date</th>\n",
       "      <th>Number_of_Attendees</th>\n",
       "    </tr>\n",
       "  </thead>\n",
       "  <tbody>\n",
       "    <tr>\n",
       "      <th>0</th>\n",
       "      <td>UnterMania II</td>\n",
       "      <td>TBA - New York</td>\n",
       "      <td>Sat, 30 Mar</td>\n",
       "      <td>457.0</td>\n",
       "    </tr>\n",
       "    <tr>\n",
       "      <th>1</th>\n",
       "      <td>Cocoon New York: Sven Väth, Ilario Alicante, B...</td>\n",
       "      <td>99 Scott Ave</td>\n",
       "      <td>Sat, 30 Mar</td>\n",
       "      <td>407.0</td>\n",
       "    </tr>\n",
       "    <tr>\n",
       "      <th>2</th>\n",
       "      <td>Horse Meat Disco - New York Residency</td>\n",
       "      <td>Elsewhere</td>\n",
       "      <td>Sat, 30 Mar</td>\n",
       "      <td>375.0</td>\n",
       "    </tr>\n",
       "    <tr>\n",
       "      <th>3</th>\n",
       "      <td>Rave: Underground Resistance All Night</td>\n",
       "      <td>Nowadays</td>\n",
       "      <td>Sat, 30 Mar</td>\n",
       "      <td>232.0</td>\n",
       "    </tr>\n",
       "    <tr>\n",
       "      <th>4</th>\n",
       "      <td>Believe You Me // Beta Librae, Stephan Kimbel,...</td>\n",
       "      <td>TBA - New York</td>\n",
       "      <td>Sat, 30 Mar</td>\n",
       "      <td>89.0</td>\n",
       "    </tr>\n",
       "    <tr>\n",
       "      <th>...</th>\n",
       "      <td>...</td>\n",
       "      <td>...</td>\n",
       "      <td>...</td>\n",
       "      <td>...</td>\n",
       "    </tr>\n",
       "    <tr>\n",
       "      <th>114</th>\n",
       "      <td>A Night at the Baths</td>\n",
       "      <td>C'mon Everybody</td>\n",
       "      <td>Fri, 5 Apr</td>\n",
       "      <td>1.0</td>\n",
       "    </tr>\n",
       "    <tr>\n",
       "      <th>115</th>\n",
       "      <td>Blaqk Audio</td>\n",
       "      <td>Music Hall of Williamsburg</td>\n",
       "      <td>Fri, 5 Apr</td>\n",
       "      <td>1.0</td>\n",
       "    </tr>\n",
       "    <tr>\n",
       "      <th>116</th>\n",
       "      <td>Erik the Lover</td>\n",
       "      <td>Erv's</td>\n",
       "      <td>Fri, 5 Apr</td>\n",
       "      <td>1.0</td>\n",
       "    </tr>\n",
       "    <tr>\n",
       "      <th>117</th>\n",
       "      <td>Wax On Vissions</td>\n",
       "      <td>Starliner</td>\n",
       "      <td>Fri, 5 Apr</td>\n",
       "      <td>1.0</td>\n",
       "    </tr>\n",
       "    <tr>\n",
       "      <th>118</th>\n",
       "      <td>Schimanski &amp; Good Looks present: Mercer</td>\n",
       "      <td>Schimanski</td>\n",
       "      <td>Fri, 5 Apr</td>\n",
       "      <td>1.0</td>\n",
       "    </tr>\n",
       "  </tbody>\n",
       "</table>\n",
       "<p>119 rows × 4 columns</p>\n",
       "</div>"
      ],
      "text/plain": [
       "                                            Event_Name  \\\n",
       "0                                        UnterMania II   \n",
       "1    Cocoon New York: Sven Väth, Ilario Alicante, B...   \n",
       "2                Horse Meat Disco - New York Residency   \n",
       "3               Rave: Underground Resistance All Night   \n",
       "4    Believe You Me // Beta Librae, Stephan Kimbel,...   \n",
       "..                                                 ...   \n",
       "114                               A Night at the Baths   \n",
       "115                                        Blaqk Audio   \n",
       "116                                     Erik the Lover   \n",
       "117                                    Wax On Vissions   \n",
       "118            Schimanski & Good Looks present: Mercer   \n",
       "\n",
       "                          Venue   Event_Date  Number_of_Attendees  \n",
       "0                TBA - New York  Sat, 30 Mar                457.0  \n",
       "1                  99 Scott Ave  Sat, 30 Mar                407.0  \n",
       "2                     Elsewhere  Sat, 30 Mar                375.0  \n",
       "3                      Nowadays  Sat, 30 Mar                232.0  \n",
       "4                TBA - New York  Sat, 30 Mar                 89.0  \n",
       "..                          ...          ...                  ...  \n",
       "114             C'mon Everybody   Fri, 5 Apr                  1.0  \n",
       "115  Music Hall of Williamsburg   Fri, 5 Apr                  1.0  \n",
       "116                       Erv's   Fri, 5 Apr                  1.0  \n",
       "117                   Starliner   Fri, 5 Apr                  1.0  \n",
       "118                  Schimanski   Fri, 5 Apr                  1.0  \n",
       "\n",
       "[119 rows x 4 columns]"
      ]
     },
     "execution_count": 71,
     "metadata": {},
     "output_type": "execute_result"
    }
   ],
   "source": [
    "# Test out your function\n",
    "scrape_events(EVENTS_PAGE_URL)"
   ]
  },
  {
   "cell_type": "markdown",
   "metadata": {},
   "source": [
    "## Write a Function to Retrieve the URL for the Next Page\n",
    "\n",
    "As you scroll down, there should be a button labeled \"Next Week\" that will take you to the next page of events. Write code to find that button and extract the URL from it.\n",
    "\n",
    "This is a relative path, so make sure you add `https://web.archive.org` to the front to get the URL.\n",
    "\n",
    "![next page](images/ra_next.png)"
   ]
  },
  {
   "cell_type": "code",
   "execution_count": 72,
   "metadata": {},
   "outputs": [
    {
     "data": {
      "text/plain": [
       "'https://web.archive.org/web/20210326225933/https://ra.co/events/us/newyork?week=2019-04-06'"
      ]
     },
     "execution_count": 72,
     "metadata": {},
     "output_type": "execute_result"
    }
   ],
   "source": [
    "# Find the button, find the relative path, create the URL for the current `soup`\n",
    "svg = soup.find(\"svg\", attrs={\"aria-label\": \"Right arrow\"})\n",
    "svg_parent = svg.parent\n",
    "link = svg.parent.previousSibling\n",
    "relative_path = link.get(\"href\")\n",
    "next_page_url = \"https://web.archive.org\" + relative_path\n",
    "next_page_url"
   ]
  },
  {
   "cell_type": "code",
   "execution_count": 73,
   "metadata": {},
   "outputs": [],
   "source": [
    "# Fill in this function, to take in the current page's URL and return the\n",
    "# next page's URL\n",
    "def next_page(url):\n",
    "    #Your code here\n",
    "    res = requests.get(url)\n",
    "    soup = BeautifulSoup(res.content, \"html.parser\")\n",
    "    svg = soup.find(\"svg\", attrs={\"aria-label\": \"Right arrow\"})\n",
    "    svg_parent = svg.parent\n",
    "    link = svg.parent.previousSibling\n",
    "    relative_path = link.get(\"href\")\n",
    "    next_page_url = \"https://web.archive.org\" + relative_path\n",
    "    return next_page_url"
   ]
  },
  {
   "cell_type": "code",
   "execution_count": 74,
   "metadata": {},
   "outputs": [
    {
     "data": {
      "text/plain": [
       "'https://web.archive.org/web/20210326225933/https://ra.co/events/us/newyork?week=2019-04-06'"
      ]
     },
     "execution_count": 74,
     "metadata": {},
     "output_type": "execute_result"
    }
   ],
   "source": [
    "# Test out your function\n",
    "next_page(EVENTS_PAGE_URL)"
   ]
  },
  {
   "cell_type": "markdown",
   "metadata": {},
   "source": [
    "## Scrape the Next 500 Events\n",
    "\n",
    "In other words, repeatedly call `scrape_events` and `next_page` until you have assembled a dataframe with at least 500 rows.\n",
    "\n",
    "Display the data sorted by the number of attendees, greatest to least.\n",
    "\n",
    "We recommend adding a brief `time.sleep` call between `requests.get` calls to avoid rate limiting."
   ]
  },
  {
   "cell_type": "code",
   "execution_count": 75,
   "metadata": {},
   "outputs": [
    {
     "data": {
      "text/html": [
       "<div>\n",
       "<style scoped>\n",
       "    .dataframe tbody tr th:only-of-type {\n",
       "        vertical-align: middle;\n",
       "    }\n",
       "\n",
       "    .dataframe tbody tr th {\n",
       "        vertical-align: top;\n",
       "    }\n",
       "\n",
       "    .dataframe thead th {\n",
       "        text-align: right;\n",
       "    }\n",
       "</style>\n",
       "<table border=\"1\" class=\"dataframe\">\n",
       "  <thead>\n",
       "    <tr style=\"text-align: right;\">\n",
       "      <th></th>\n",
       "      <th>Event_Name</th>\n",
       "      <th>Venue</th>\n",
       "      <th>Event_Date</th>\n",
       "      <th>Number_of_Attendees</th>\n",
       "    </tr>\n",
       "  </thead>\n",
       "  <tbody>\n",
       "    <tr>\n",
       "      <th>0</th>\n",
       "      <td>UnterMania II</td>\n",
       "      <td>TBA - New York</td>\n",
       "      <td>Sat, 30 Mar</td>\n",
       "      <td>457.0</td>\n",
       "    </tr>\n",
       "    <tr>\n",
       "      <th>1</th>\n",
       "      <td>Cocoon New York: Sven Väth, Ilario Alicante, B...</td>\n",
       "      <td>99 Scott Ave</td>\n",
       "      <td>Sat, 30 Mar</td>\n",
       "      <td>407.0</td>\n",
       "    </tr>\n",
       "    <tr>\n",
       "      <th>2</th>\n",
       "      <td>Horse Meat Disco - New York Residency</td>\n",
       "      <td>Elsewhere</td>\n",
       "      <td>Sat, 30 Mar</td>\n",
       "      <td>375.0</td>\n",
       "    </tr>\n",
       "    <tr>\n",
       "      <th>3</th>\n",
       "      <td>Rave: Underground Resistance All Night</td>\n",
       "      <td>Nowadays</td>\n",
       "      <td>Sat, 30 Mar</td>\n",
       "      <td>232.0</td>\n",
       "    </tr>\n",
       "    <tr>\n",
       "      <th>4</th>\n",
       "      <td>Believe You Me // Beta Librae, Stephan Kimbel,...</td>\n",
       "      <td>TBA - New York</td>\n",
       "      <td>Sat, 30 Mar</td>\n",
       "      <td>89.0</td>\n",
       "    </tr>\n",
       "    <tr>\n",
       "      <th>...</th>\n",
       "      <td>...</td>\n",
       "      <td>...</td>\n",
       "      <td>...</td>\n",
       "      <td>...</td>\n",
       "    </tr>\n",
       "    <tr>\n",
       "      <th>114</th>\n",
       "      <td>A Night at the Baths</td>\n",
       "      <td>C'mon Everybody</td>\n",
       "      <td>Fri, 5 Apr</td>\n",
       "      <td>1.0</td>\n",
       "    </tr>\n",
       "    <tr>\n",
       "      <th>115</th>\n",
       "      <td>Blaqk Audio</td>\n",
       "      <td>Music Hall of Williamsburg</td>\n",
       "      <td>Fri, 5 Apr</td>\n",
       "      <td>1.0</td>\n",
       "    </tr>\n",
       "    <tr>\n",
       "      <th>116</th>\n",
       "      <td>Erik the Lover</td>\n",
       "      <td>Erv's</td>\n",
       "      <td>Fri, 5 Apr</td>\n",
       "      <td>1.0</td>\n",
       "    </tr>\n",
       "    <tr>\n",
       "      <th>117</th>\n",
       "      <td>Wax On Vissions</td>\n",
       "      <td>Starliner</td>\n",
       "      <td>Fri, 5 Apr</td>\n",
       "      <td>1.0</td>\n",
       "    </tr>\n",
       "    <tr>\n",
       "      <th>118</th>\n",
       "      <td>Schimanski &amp; Good Looks present: Mercer</td>\n",
       "      <td>Schimanski</td>\n",
       "      <td>Fri, 5 Apr</td>\n",
       "      <td>1.0</td>\n",
       "    </tr>\n",
       "  </tbody>\n",
       "</table>\n",
       "<p>595 rows × 4 columns</p>\n",
       "</div>"
      ],
      "text/plain": [
       "                                            Event_Name  \\\n",
       "0                                        UnterMania II   \n",
       "1    Cocoon New York: Sven Väth, Ilario Alicante, B...   \n",
       "2                Horse Meat Disco - New York Residency   \n",
       "3               Rave: Underground Resistance All Night   \n",
       "4    Believe You Me // Beta Librae, Stephan Kimbel,...   \n",
       "..                                                 ...   \n",
       "114                               A Night at the Baths   \n",
       "115                                        Blaqk Audio   \n",
       "116                                     Erik the Lover   \n",
       "117                                    Wax On Vissions   \n",
       "118            Schimanski & Good Looks present: Mercer   \n",
       "\n",
       "                          Venue   Event_Date  Number_of_Attendees  \n",
       "0                TBA - New York  Sat, 30 Mar                457.0  \n",
       "1                  99 Scott Ave  Sat, 30 Mar                407.0  \n",
       "2                     Elsewhere  Sat, 30 Mar                375.0  \n",
       "3                      Nowadays  Sat, 30 Mar                232.0  \n",
       "4                TBA - New York  Sat, 30 Mar                 89.0  \n",
       "..                          ...          ...                  ...  \n",
       "114             C'mon Everybody   Fri, 5 Apr                  1.0  \n",
       "115  Music Hall of Williamsburg   Fri, 5 Apr                  1.0  \n",
       "116                       Erv's   Fri, 5 Apr                  1.0  \n",
       "117                   Starliner   Fri, 5 Apr                  1.0  \n",
       "118                  Schimanski   Fri, 5 Apr                  1.0  \n",
       "\n",
       "[595 rows x 4 columns]"
      ]
     },
     "execution_count": 75,
     "metadata": {},
     "output_type": "execute_result"
    }
   ],
   "source": [
    "# Your code here\n",
    "overall_df = pd.DataFrame()\n",
    "current_url = EVENTS_PAGE_URL\n",
    "while overall_df.shape[0] <= 500:\n",
    "    df = scrape_events(current_url)\n",
    "    time.sleep(.2)\n",
    "    overall_df = pd.concat([overall_df, df])\n",
    "    current_url = next_page(current_url)\n",
    "    time.sleep(.2)\n",
    "overall_df"
   ]
  },
  {
   "cell_type": "markdown",
   "metadata": {},
   "source": [
    "## Summary \n",
    "\n",
    "Congratulations! In this lab, you successfully developed a pipeline to scrape a website for concert event information!"
   ]
  }
 ],
 "metadata": {
  "kernelspec": {
   "display_name": "Python 3",
   "language": "python",
   "name": "python3"
  },
  "language_info": {
   "codemirror_mode": {
    "name": "ipython",
    "version": 3
   },
   "file_extension": ".py",
   "mimetype": "text/x-python",
   "name": "python",
   "nbconvert_exporter": "python",
   "pygments_lexer": "ipython3",
   "version": "3.8.5"
  }
 },
 "nbformat": 4,
 "nbformat_minor": 2
}
